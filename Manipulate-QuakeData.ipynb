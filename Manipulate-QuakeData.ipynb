{
 "cells": [
  {
   "cell_type": "markdown",
   "metadata": {},
   "source": [
    "# Manipulation Tools for ANSS Datasets\n",
    "\n",
    "This Notebook contains the functions used to manipulate the downloaded '.cnss' data from 1990-2016. \n",
    "\n",
    "Note that the raw data was contained within a plain text file in which fields were separated by spaces, most times.\n",
    "\n",
    "There is no need to use this notebook unless further data manipulation needs to be made, all data used with our Tensorflow implementation will be included."
   ]
  },
  {
   "cell_type": "code",
   "execution_count": 6,
   "metadata": {
    "collapsed": true
   },
   "outputs": [],
   "source": [
    "import pandas as pd\n",
    "import math\n",
    "import wget\n",
    "import matplotlib.pyplot as plt\n",
    "from matplotlib import animation\n",
    "\n",
    "#PARSING PARAMETERS & CONTROL\n",
    "    #init_year -> scan .cnss files starting with given year\n",
    "    #end_year  -> scan .cnss files up to, but not including, this year (use 2017)\n",
    "    #init_month-> scan .cnss files starting with given month\n",
    "    #end_month -> scan .cnss files up to, but not including, this month (use 13)\n",
    "    #location  -> scan .cnss files and parse out lines that contain the given location parameter, creates 'location'.csv\n",
    "    #pToCSV    -> Boolean value, when set to False .cnss files will not be parsed into a csv\n",
    "    #pAvgTable -> Boolean value, when set to False generated .csv files will not be averaged\n",
    "    \n",
    "init_year = 1990\n",
    "end_year = 2017\n",
    "init_month = 1\n",
    "end_month = 13\n",
    "\n",
    "p_toCSV = True    #Keep 'False' when testing functions, this will only work when 'eqData' directory exists and contains the .cnss files\n",
    "p_avgTable = False #Keep 'False'\n",
    "dl_csvData = False #Triggers to False once data has been downloaded, this prevents duplicate downloads\n",
    "\n",
    "location = \"CI\""
   ]
  },
  {
   "cell_type": "code",
   "execution_count": 7,
   "metadata": {
    "collapsed": true
   },
   "outputs": [],
   "source": [
    "#parseToCSV(directory,location)\n",
    "#-This function is used to convert the .cnss raw data to a usable .csv format\n",
    "#-The raw data set did not contain any hard set identifiers\n",
    "#-Because of this the most reliable method of extracting information was to scan through individual characters per line\n",
    "#-As of now, changing the formatting requires some modification of the code which is tedious\n",
    "\n",
    "def parseToCSV(directory,location):\n",
    "    fpath = str(\"eqData/\" + directory)\n",
    "    fo = open(fpath)\n",
    "\n",
    "    newFile = open('mag_locationsCI.csv', 'a')\n",
    "    \n",
    "    with fo as f:  #load\n",
    "        for line in f:\n",
    "            if location not in line:\n",
    "                continue\n",
    "            else:\n",
    "                date_year = \"\"\n",
    "                date_month = \"\"\n",
    "                date_day = \"\"\n",
    "                mag_str = \"\"\n",
    "                \n",
    "                lat = \"\"\n",
    "                lng = \"\"\n",
    "                \n",
    "                mag = 0\n",
    "                pwr = 0\n",
    "                ct = 0    \n",
    "                \n",
    "                #scrape year, month, date\n",
    "                for y in range (5,9):\n",
    "                    date_year+= line[y]\n",
    "                for m in range (9,11):\n",
    "                    date_month+= line[m]\n",
    "                for d in range (11, 13):\n",
    "                    date_day+= line[d]\n",
    "                    \n",
    "                #extract lat, lng\n",
    "                for lt in range(24,33):\n",
    "                    lat += line[lt]\n",
    "                for lg in range(33,43):\n",
    "                    lng += line[lg]\n",
    "                    \n",
    "                #extract magnitude    \n",
    "                for mg in range (130,134):\n",
    "                    mag_str+= line[mg]\n",
    "                \n",
    "                if mag_str[0] == ' ':\n",
    "                    continue\n",
    "                \n",
    "                mag = float(mag_str)\n",
    "                pwr = (10**(3*mag/2))\n",
    "                \n",
    "                if mag > 5.0: \n",
    "                    ct = 1\n",
    "                else:\n",
    "                    ct = 0                \n",
    "                \n",
    "                newFile.write(date_year + ',' + date_month + ',' + date_day + ',' + lat + ',' + lng + ',' + str(mag) + ',' + str(pwr) + ',' + str(ct) + '\\n')\n",
    "    \n",
    "    fo.close()\n",
    "    return"
   ]
  },
  {
   "cell_type": "code",
   "execution_count": 8,
   "metadata": {
    "collapsed": true
   },
   "outputs": [],
   "source": [
    "#Create .csv file with given range of year and months\n",
    "if p_toCSV == True:\n",
    "    for x in range(init_year, end_year):\n",
    "        for y in range(init_month, end_month):\n",
    "            if y<10:\n",
    "                directory = str(x) + '.0' + str(y) + '.cnss'\n",
    "            else:\n",
    "                directory = str(x) + '.' + str(y) + '.cnss'\n",
    "        \n",
    "            parseToCSV(directory, location)    "
   ]
  },
  {
   "cell_type": "code",
   "execution_count": 10,
   "metadata": {
    "collapsed": true
   },
   "outputs": [],
   "source": [
    "#We used this code to creatte a combined dataset grouped by year, month and day.\n",
    "#The remaining data was aggregated in two methods, by sum and mean\n",
    "\n",
    "def manCSV(directory):\n",
    "    #csv_path = str(directory + \".csv\")\n",
    "    csv_path = str('combined.csv')\n",
    "\n",
    "    IDs = ['year', 'month', 'day', 'mag', 'pwr', 'ct']\n",
    "    \n",
    "    df = pd.read_csv(csv_path, names=IDs).groupby(['year', 'month', 'day'])\n",
    "    \n",
    "    \n",
    "    grouped = pd.DataFrame(df.agg(['sum', 'mean']).join(pd.DataFrame(df.size(), \n",
    "                                columns=['counts'])))\n",
    "    #print(grouped)\n",
    "    grouped.to_csv(\"m_\" + csv_path, sep=',')\n",
    "    \n",
    "   \n",
    "    return grouped"
   ]
  },
  {
   "cell_type": "code",
   "execution_count": null,
   "metadata": {
    "collapsed": true
   },
   "outputs": [],
   "source": []
  }
 ],
 "metadata": {
  "kernelspec": {
   "display_name": "Python 2",
   "language": "python",
   "name": "python2"
  },
  "language_info": {
   "codemirror_mode": {
    "name": "ipython",
    "version": 2
   },
   "file_extension": ".py",
   "mimetype": "text/x-python",
   "name": "python",
   "nbconvert_exporter": "python",
   "pygments_lexer": "ipython2",
   "version": "2.7.11"
  }
 },
 "nbformat": 4,
 "nbformat_minor": 2
}
