{
 "cells": [
  {
   "cell_type": "markdown",
   "metadata": {
    "collapsed": false
   },
   "source": [
    "# Visual Quakes\n"
   ]
  },
  {
   "cell_type": "code",
   "execution_count": 31,
   "metadata": {
    "collapsed": false
   },
   "outputs": [
    {
     "name": "stdout",
     "output_type": "stream",
     "text": [
      "m_combined.csv Opened\n",
      "mag_locationsCI.csv Opened\n",
      "mag_locationsNC.csv Opened\n"
     ]
    }
   ],
   "source": [
    "#Check if Required CSV data exists in Working Directory\n",
    "#if not present data is downloaded from github repo\n",
    "#Download CSV data from Github\n",
    "from pathlib2 import Path\n",
    "\n",
    "combined = Path(\"m_combined.csv\")\n",
    "if combined.is_file():\n",
    "    print(\"m_combined.csv Opened\")\n",
    "else:\n",
    "    print(\"m_combined.csv: DNE -- Downloading from Git\")\n",
    "    url = 'https://raw.githubusercontent.com/nevelo/quake-predict/master/csvData/m_combined.csv'\n",
    "    fd = wget.download(url)\n",
    "\n",
    "magCIdat = Path(\"mag_locationsCI.csv\")\n",
    "if magCIdat.is_file():\n",
    "    print(\"mag_locationsCI.csv Opened\")\n",
    "else:\n",
    "    print(\"mag_locationsCI.csv: DNE -- Downloading from Git\")\n",
    "    url = 'https://raw.githubusercontent.com/nevelo/quake-predict/master/csvData/mag_locationsCI.csv'\n",
    "    fd = wget.download(url)\n",
    "    \n",
    "magNCdat = Path(\"mag_locationsNC.csv\")\n",
    "if magNCdat.is_file():\n",
    "    print(\"mag_locationsNC.csv Opened\")\n",
    "else:\n",
    "    print(\"mag_locationsNC.csv: DNE -- Downloading from Git\")\n",
    "    url = 'https://raw.githubusercontent.com/nevelo/quake-predict/master/csvData/mag_locationsNC.csv'\n",
    "    fd = wget.download(url)"
   ]
  },
  {
   "cell_type": "code",
   "execution_count": 21,
   "metadata": {
    "collapsed": false
   },
   "outputs": [],
   "source": [
    "#Open Files\n",
    "f_combined = open(\"m_combined.csv\")\n",
    "f_CI = open(\"mag_locationsCI.csv\")\n",
    "f_NC = open(\"mag_locationsNC.csv\")"
   ]
  },
  {
   "cell_type": "code",
   "execution_count": 4,
   "metadata": {
    "collapsed": false
   },
   "outputs": [],
   "source": []
  },
  {
   "cell_type": "code",
   "execution_count": 6,
   "metadata": {
    "collapsed": false,
    "scrolled": false
   },
   "outputs": [],
   "source": [
    "#Parse generated .csv file to average out to daily magnitude, power and count of eq > 5.0\n",
    "if p_avgTable == True:\n",
    "    manCSV(location)"
   ]
  },
  {
   "cell_type": "code",
   "execution_count": 7,
   "metadata": {
    "collapsed": false
   },
   "outputs": [],
   "source": [
    "import urllib\n",
    "from mpl_toolkits.basemap import Basemap\n",
    "import numpy as np\n",
    "\n",
    "# -> http://earthquake.usgs.gov/earthquakes/feed/v1.0/csv.php\n",
    "feed = \"http://earthquake.usgs.gov/earthquakes/feed/v1.0/summary/\"\n",
    "\n",
    "# Significant earthquakes in the last 30 days\n",
    "# url = urllib.request.urlopen(feed + \"significant_month.csv\")\n",
    "\n",
    "# Magnitude > 4.5\n",
    "#url = str(feed + \"4.5_month.csv\")\n",
    "\n",
    "# Magnitude > 2.5\n",
    "url = str(feed + \"2.5_month.csv\")\n",
    "\n",
    "# Magnitude > 1.0\n",
    "# url = str(feed + \"1.0_month.csv\")\n",
    "\n",
    "# Reading and storage of data\n",
    "data = wget.download(url)\n",
    "data = data.split(b'\\n')[+1:-1]\n",
    "E = np.zeros(len(data), dtype=[('position',  float, 2),\n",
    "                               ('magnitude', float, 1)])\n",
    "\n",
    "for i in range(len(data)):\n",
    "    row = data[i].split(',')\n",
    "    E['position'][i] = float(row[2]),float(row[1])\n",
    "    E['magnitude'][i] = float(row[4])"
   ]
  },
  {
   "cell_type": "code",
   "execution_count": 8,
   "metadata": {
    "collapsed": false
   },
   "outputs": [
    {
     "data": {
      "text/plain": [
       "[<matplotlib.patches.Polygon at 0x7ff05224c150>,\n",
       " <matplotlib.patches.Polygon at 0x7ff050e78210>,\n",
       " <matplotlib.patches.Polygon at 0x7ff050e786d0>,\n",
       " <matplotlib.patches.Polygon at 0x7ff050e78b90>,\n",
       " <matplotlib.patches.Polygon at 0x7ff050e78f90>,\n",
       " <matplotlib.patches.Polygon at 0x7ff052201550>,\n",
       " <matplotlib.patches.Polygon at 0x7ff052201a10>,\n",
       " <matplotlib.patches.Polygon at 0x7ff052201ed0>,\n",
       " <matplotlib.patches.Polygon at 0x7ff05221a3d0>,\n",
       " <matplotlib.patches.Polygon at 0x7ff05221a890>,\n",
       " <matplotlib.patches.Polygon at 0x7ff05221ad50>,\n",
       " <matplotlib.patches.Polygon at 0x7ff05107d250>,\n",
       " <matplotlib.patches.Polygon at 0x7ff05107d710>,\n",
       " <matplotlib.patches.Polygon at 0x7ff05107dbd0>,\n",
       " <matplotlib.patches.Polygon at 0x7ff05107dfd0>,\n",
       " <matplotlib.patches.Polygon at 0x7ff051089590>,\n",
       " <matplotlib.patches.Polygon at 0x7ff051089a50>,\n",
       " <matplotlib.patches.Polygon at 0x7ff051089f10>,\n",
       " <matplotlib.patches.Polygon at 0x7ff051094410>,\n",
       " <matplotlib.patches.Polygon at 0x7ff0510948d0>,\n",
       " <matplotlib.patches.Polygon at 0x7ff051094d90>,\n",
       " <matplotlib.patches.Polygon at 0x7ff0510a0290>,\n",
       " <matplotlib.patches.Polygon at 0x7ff0510a0750>,\n",
       " <matplotlib.patches.Polygon at 0x7ff0510a0c10>,\n",
       " <matplotlib.patches.Polygon at 0x7ff0510ae110>,\n",
       " <matplotlib.patches.Polygon at 0x7ff0510ae5d0>,\n",
       " <matplotlib.patches.Polygon at 0x7ff0510aea90>,\n",
       " <matplotlib.patches.Polygon at 0x7ff0510aef50>,\n",
       " <matplotlib.patches.Polygon at 0x7ff0510bb450>,\n",
       " <matplotlib.patches.Polygon at 0x7ff0510bb910>,\n",
       " <matplotlib.patches.Polygon at 0x7ff0510bbdd0>,\n",
       " <matplotlib.patches.Polygon at 0x7ff0510482d0>,\n",
       " <matplotlib.patches.Polygon at 0x7ff051048790>,\n",
       " <matplotlib.patches.Polygon at 0x7ff051048c50>,\n",
       " <matplotlib.patches.Polygon at 0x7ff051054150>,\n",
       " <matplotlib.patches.Polygon at 0x7ff051054610>,\n",
       " <matplotlib.patches.Polygon at 0x7ff051054ad0>,\n",
       " <matplotlib.patches.Polygon at 0x7ff051054f90>,\n",
       " <matplotlib.patches.Polygon at 0x7ff051062490>,\n",
       " <matplotlib.patches.Polygon at 0x7ff051062950>,\n",
       " <matplotlib.patches.Polygon at 0x7ff051062e10>,\n",
       " <matplotlib.patches.Polygon at 0x7ff05106e310>,\n",
       " <matplotlib.patches.Polygon at 0x7ff05106e7d0>,\n",
       " <matplotlib.patches.Polygon at 0x7ff05106ec90>,\n",
       " <matplotlib.patches.Polygon at 0x7ff05107b190>,\n",
       " <matplotlib.patches.Polygon at 0x7ff05107b650>,\n",
       " <matplotlib.patches.Polygon at 0x7ff05107bb10>,\n",
       " <matplotlib.patches.Polygon at 0x7ff05107bfd0>,\n",
       " <matplotlib.patches.Polygon at 0x7ff05100a4d0>,\n",
       " <matplotlib.patches.Polygon at 0x7ff05100a990>,\n",
       " <matplotlib.patches.Polygon at 0x7ff05100ae50>,\n",
       " <matplotlib.patches.Polygon at 0x7ff051016350>,\n",
       " <matplotlib.patches.Polygon at 0x7ff051016810>,\n",
       " <matplotlib.patches.Polygon at 0x7ff051016cd0>,\n",
       " <matplotlib.patches.Polygon at 0x7ff0510211d0>,\n",
       " <matplotlib.patches.Polygon at 0x7ff051021690>,\n",
       " <matplotlib.patches.Polygon at 0x7ff051021b50>,\n",
       " <matplotlib.patches.Polygon at 0x7ff051021f50>,\n",
       " <matplotlib.patches.Polygon at 0x7ff05102f510>,\n",
       " <matplotlib.patches.Polygon at 0x7ff05102f9d0>,\n",
       " <matplotlib.patches.Polygon at 0x7ff05102fe90>,\n",
       " <matplotlib.patches.Polygon at 0x7ff05103c390>,\n",
       " <matplotlib.patches.Polygon at 0x7ff05103c850>,\n",
       " <matplotlib.patches.Polygon at 0x7ff05103cd10>,\n",
       " <matplotlib.patches.Polygon at 0x7ff050fc8210>,\n",
       " <matplotlib.patches.Polygon at 0x7ff050fc86d0>,\n",
       " <matplotlib.patches.Polygon at 0x7ff050fc8b90>,\n",
       " <matplotlib.patches.Polygon at 0x7ff050fc8f90>,\n",
       " <matplotlib.patches.Polygon at 0x7ff050fd5550>,\n",
       " <matplotlib.patches.Polygon at 0x7ff050fd5a10>,\n",
       " <matplotlib.patches.Polygon at 0x7ff050fd5ed0>,\n",
       " <matplotlib.patches.Polygon at 0x7ff050fe23d0>,\n",
       " <matplotlib.patches.Polygon at 0x7ff050fe2890>,\n",
       " <matplotlib.patches.Polygon at 0x7ff050fe2d50>,\n",
       " <matplotlib.patches.Polygon at 0x7ff050fef250>,\n",
       " <matplotlib.patches.Polygon at 0x7ff050fef710>,\n",
       " <matplotlib.patches.Polygon at 0x7ff050fefbd0>,\n",
       " <matplotlib.patches.Polygon at 0x7ff050feffd0>,\n",
       " <matplotlib.patches.Polygon at 0x7ff050ffb590>,\n",
       " <matplotlib.patches.Polygon at 0x7ff050ffba50>,\n",
       " <matplotlib.patches.Polygon at 0x7ff050ffbf10>,\n",
       " <matplotlib.patches.Polygon at 0x7ff050f88410>,\n",
       " <matplotlib.patches.Polygon at 0x7ff050f888d0>,\n",
       " <matplotlib.patches.Polygon at 0x7ff050f88d90>,\n",
       " <matplotlib.patches.Polygon at 0x7ff050f95290>,\n",
       " <matplotlib.patches.Polygon at 0x7ff050f95750>,\n",
       " <matplotlib.patches.Polygon at 0x7ff050f95c10>,\n",
       " <matplotlib.patches.Polygon at 0x7ff050fa2110>,\n",
       " <matplotlib.patches.Polygon at 0x7ff050fa25d0>,\n",
       " <matplotlib.patches.Polygon at 0x7ff050fa2a90>,\n",
       " <matplotlib.patches.Polygon at 0x7ff050fa2f50>,\n",
       " <matplotlib.patches.Polygon at 0x7ff050fae450>,\n",
       " <matplotlib.patches.Polygon at 0x7ff050fae910>,\n",
       " <matplotlib.patches.Polygon at 0x7ff050faedd0>,\n",
       " <matplotlib.patches.Polygon at 0x7ff050fba2d0>,\n",
       " <matplotlib.patches.Polygon at 0x7ff050fba790>,\n",
       " <matplotlib.patches.Polygon at 0x7ff050fbac50>,\n",
       " <matplotlib.patches.Polygon at 0x7ff050f48150>,\n",
       " <matplotlib.patches.Polygon at 0x7ff050f48610>,\n",
       " <matplotlib.patches.Polygon at 0x7ff050f48ad0>,\n",
       " <matplotlib.patches.Polygon at 0x7ff050f48f90>,\n",
       " <matplotlib.patches.Polygon at 0x7ff050f55490>,\n",
       " <matplotlib.patches.Polygon at 0x7ff050f55950>,\n",
       " <matplotlib.patches.Polygon at 0x7ff050f55e10>,\n",
       " <matplotlib.patches.Polygon at 0x7ff050f60310>,\n",
       " <matplotlib.patches.Polygon at 0x7ff050f607d0>,\n",
       " <matplotlib.patches.Polygon at 0x7ff050f60c90>,\n",
       " <matplotlib.patches.Polygon at 0x7ff050f6f190>,\n",
       " <matplotlib.patches.Polygon at 0x7ff050f6f650>,\n",
       " <matplotlib.patches.Polygon at 0x7ff050f6fb10>,\n",
       " <matplotlib.patches.Polygon at 0x7ff050f6ffd0>,\n",
       " <matplotlib.patches.Polygon at 0x7ff050f7c4d0>,\n",
       " <matplotlib.patches.Polygon at 0x7ff050f7c990>,\n",
       " <matplotlib.patches.Polygon at 0x7ff050f7ce50>,\n",
       " <matplotlib.patches.Polygon at 0x7ff050f07350>,\n",
       " <matplotlib.patches.Polygon at 0x7ff050f07810>,\n",
       " <matplotlib.patches.Polygon at 0x7ff050f07cd0>,\n",
       " <matplotlib.patches.Polygon at 0x7ff050f161d0>,\n",
       " <matplotlib.patches.Polygon at 0x7ff050f16690>,\n",
       " <matplotlib.patches.Polygon at 0x7ff050f16b50>,\n",
       " <matplotlib.patches.Polygon at 0x7ff050f16f50>,\n",
       " <matplotlib.patches.Polygon at 0x7ff050f23510>,\n",
       " <matplotlib.patches.Polygon at 0x7ff050f239d0>,\n",
       " <matplotlib.patches.Polygon at 0x7ff050f23e90>,\n",
       " <matplotlib.patches.Polygon at 0x7ff050f2e390>,\n",
       " <matplotlib.patches.Polygon at 0x7ff050f2e850>,\n",
       " <matplotlib.patches.Polygon at 0x7ff050f2ed10>]"
      ]
     },
     "execution_count": 8,
     "metadata": {},
     "output_type": "execute_result"
    }
   ],
   "source": [
    "fig = plt.figure(figsize=(14,10))\n",
    "ax = plt.subplot(1,1,1)\n",
    "\n",
    "earth = Basemap(projection='mill')\n",
    "\n",
    "\n",
    "earth.drawcoastlines(color='0.50', linewidth=0.25)\n",
    "earth.fillcontinents(color='0.95')"
   ]
  },
  {
   "cell_type": "code",
   "execution_count": 9,
   "metadata": {
    "collapsed": false
   },
   "outputs": [
    {
     "ename": "ZeroDivisionError",
     "evalue": "integer division or modulo by zero",
     "output_type": "error",
     "traceback": [
      "\u001b[0;31m---------------------------------------------------------------------------\u001b[0m",
      "\u001b[0;31mZeroDivisionError\u001b[0m                         Traceback (most recent call last)",
      "\u001b[0;32m/export/home/users/clopezar/.conda/envs/engg3130/lib/python2.7/site-packages/IPython/core/formatters.pyc\u001b[0m in \u001b[0;36m__call__\u001b[0;34m(self, obj)\u001b[0m\n\u001b[1;32m    305\u001b[0m                 \u001b[0;32mpass\u001b[0m\u001b[0;34m\u001b[0m\u001b[0m\n\u001b[1;32m    306\u001b[0m             \u001b[0;32melse\u001b[0m\u001b[0;34m:\u001b[0m\u001b[0;34m\u001b[0m\u001b[0m\n\u001b[0;32m--> 307\u001b[0;31m                 \u001b[0;32mreturn\u001b[0m \u001b[0mprinter\u001b[0m\u001b[0;34m(\u001b[0m\u001b[0mobj\u001b[0m\u001b[0;34m)\u001b[0m\u001b[0;34m\u001b[0m\u001b[0m\n\u001b[0m\u001b[1;32m    308\u001b[0m             \u001b[0;31m# Finally look for special method names\u001b[0m\u001b[0;34m\u001b[0m\u001b[0;34m\u001b[0m\u001b[0m\n\u001b[1;32m    309\u001b[0m             \u001b[0mmethod\u001b[0m \u001b[0;34m=\u001b[0m \u001b[0mget_real_method\u001b[0m\u001b[0;34m(\u001b[0m\u001b[0mobj\u001b[0m\u001b[0;34m,\u001b[0m \u001b[0mself\u001b[0m\u001b[0;34m.\u001b[0m\u001b[0mprint_method\u001b[0m\u001b[0;34m)\u001b[0m\u001b[0;34m\u001b[0m\u001b[0m\n",
      "\u001b[0;32m/export/home/users/clopezar/.conda/envs/engg3130/lib/python2.7/site-packages/IPython/core/pylabtools.pyc\u001b[0m in \u001b[0;36m<lambda>\u001b[0;34m(fig)\u001b[0m\n\u001b[1;32m    225\u001b[0m \u001b[0;34m\u001b[0m\u001b[0m\n\u001b[1;32m    226\u001b[0m     \u001b[0;32mif\u001b[0m \u001b[0;34m'png'\u001b[0m \u001b[0;32min\u001b[0m \u001b[0mformats\u001b[0m\u001b[0;34m:\u001b[0m\u001b[0;34m\u001b[0m\u001b[0m\n\u001b[0;32m--> 227\u001b[0;31m         \u001b[0mpng_formatter\u001b[0m\u001b[0;34m.\u001b[0m\u001b[0mfor_type\u001b[0m\u001b[0;34m(\u001b[0m\u001b[0mFigure\u001b[0m\u001b[0;34m,\u001b[0m \u001b[0;32mlambda\u001b[0m \u001b[0mfig\u001b[0m\u001b[0;34m:\u001b[0m \u001b[0mprint_figure\u001b[0m\u001b[0;34m(\u001b[0m\u001b[0mfig\u001b[0m\u001b[0;34m,\u001b[0m \u001b[0;34m'png'\u001b[0m\u001b[0;34m,\u001b[0m \u001b[0;34m**\u001b[0m\u001b[0mkwargs\u001b[0m\u001b[0;34m)\u001b[0m\u001b[0;34m)\u001b[0m\u001b[0;34m\u001b[0m\u001b[0m\n\u001b[0m\u001b[1;32m    228\u001b[0m     \u001b[0;32mif\u001b[0m \u001b[0;34m'retina'\u001b[0m \u001b[0;32min\u001b[0m \u001b[0mformats\u001b[0m \u001b[0;32mor\u001b[0m \u001b[0;34m'png2x'\u001b[0m \u001b[0;32min\u001b[0m \u001b[0mformats\u001b[0m\u001b[0;34m:\u001b[0m\u001b[0;34m\u001b[0m\u001b[0m\n\u001b[1;32m    229\u001b[0m         \u001b[0mpng_formatter\u001b[0m\u001b[0;34m.\u001b[0m\u001b[0mfor_type\u001b[0m\u001b[0;34m(\u001b[0m\u001b[0mFigure\u001b[0m\u001b[0;34m,\u001b[0m \u001b[0;32mlambda\u001b[0m \u001b[0mfig\u001b[0m\u001b[0;34m:\u001b[0m \u001b[0mretina_figure\u001b[0m\u001b[0;34m(\u001b[0m\u001b[0mfig\u001b[0m\u001b[0;34m,\u001b[0m \u001b[0;34m**\u001b[0m\u001b[0mkwargs\u001b[0m\u001b[0;34m)\u001b[0m\u001b[0;34m)\u001b[0m\u001b[0;34m\u001b[0m\u001b[0m\n",
      "\u001b[0;32m/export/home/users/clopezar/.conda/envs/engg3130/lib/python2.7/site-packages/IPython/core/pylabtools.pyc\u001b[0m in \u001b[0;36mprint_figure\u001b[0;34m(fig, fmt, bbox_inches, **kwargs)\u001b[0m\n\u001b[1;32m    117\u001b[0m \u001b[0;34m\u001b[0m\u001b[0m\n\u001b[1;32m    118\u001b[0m     \u001b[0mbytes_io\u001b[0m \u001b[0;34m=\u001b[0m \u001b[0mBytesIO\u001b[0m\u001b[0;34m(\u001b[0m\u001b[0;34m)\u001b[0m\u001b[0;34m\u001b[0m\u001b[0m\n\u001b[0;32m--> 119\u001b[0;31m     \u001b[0mfig\u001b[0m\u001b[0;34m.\u001b[0m\u001b[0mcanvas\u001b[0m\u001b[0;34m.\u001b[0m\u001b[0mprint_figure\u001b[0m\u001b[0;34m(\u001b[0m\u001b[0mbytes_io\u001b[0m\u001b[0;34m,\u001b[0m \u001b[0;34m**\u001b[0m\u001b[0mkw\u001b[0m\u001b[0;34m)\u001b[0m\u001b[0;34m\u001b[0m\u001b[0m\n\u001b[0m\u001b[1;32m    120\u001b[0m     \u001b[0mdata\u001b[0m \u001b[0;34m=\u001b[0m \u001b[0mbytes_io\u001b[0m\u001b[0;34m.\u001b[0m\u001b[0mgetvalue\u001b[0m\u001b[0;34m(\u001b[0m\u001b[0;34m)\u001b[0m\u001b[0;34m\u001b[0m\u001b[0m\n\u001b[1;32m    121\u001b[0m     \u001b[0;32mif\u001b[0m \u001b[0mfmt\u001b[0m \u001b[0;34m==\u001b[0m \u001b[0;34m'svg'\u001b[0m\u001b[0;34m:\u001b[0m\u001b[0;34m\u001b[0m\u001b[0m\n",
      "\u001b[0;32m/export/home/users/clopezar/.conda/envs/engg3130/lib/python2.7/site-packages/matplotlib/backend_bases.pyc\u001b[0m in \u001b[0;36mprint_figure\u001b[0;34m(self, filename, dpi, facecolor, edgecolor, orientation, format, **kwargs)\u001b[0m\n\u001b[1;32m   2178\u001b[0m                     \u001b[0morientation\u001b[0m\u001b[0;34m=\u001b[0m\u001b[0morientation\u001b[0m\u001b[0;34m,\u001b[0m\u001b[0;34m\u001b[0m\u001b[0m\n\u001b[1;32m   2179\u001b[0m                     \u001b[0mdryrun\u001b[0m\u001b[0;34m=\u001b[0m\u001b[0mTrue\u001b[0m\u001b[0;34m,\u001b[0m\u001b[0;34m\u001b[0m\u001b[0m\n\u001b[0;32m-> 2180\u001b[0;31m                     **kwargs)\n\u001b[0m\u001b[1;32m   2181\u001b[0m                 \u001b[0mrenderer\u001b[0m \u001b[0;34m=\u001b[0m \u001b[0mself\u001b[0m\u001b[0;34m.\u001b[0m\u001b[0mfigure\u001b[0m\u001b[0;34m.\u001b[0m\u001b[0m_cachedRenderer\u001b[0m\u001b[0;34m\u001b[0m\u001b[0m\n\u001b[1;32m   2182\u001b[0m                 \u001b[0mbbox_inches\u001b[0m \u001b[0;34m=\u001b[0m \u001b[0mself\u001b[0m\u001b[0;34m.\u001b[0m\u001b[0mfigure\u001b[0m\u001b[0;34m.\u001b[0m\u001b[0mget_tightbbox\u001b[0m\u001b[0;34m(\u001b[0m\u001b[0mrenderer\u001b[0m\u001b[0;34m)\u001b[0m\u001b[0;34m\u001b[0m\u001b[0m\n",
      "\u001b[0;32m/export/home/users/clopezar/.conda/envs/engg3130/lib/python2.7/site-packages/matplotlib/backends/backend_agg.pyc\u001b[0m in \u001b[0;36mprint_png\u001b[0;34m(self, filename_or_obj, *args, **kwargs)\u001b[0m\n\u001b[1;32m    525\u001b[0m \u001b[0;34m\u001b[0m\u001b[0m\n\u001b[1;32m    526\u001b[0m     \u001b[0;32mdef\u001b[0m \u001b[0mprint_png\u001b[0m\u001b[0;34m(\u001b[0m\u001b[0mself\u001b[0m\u001b[0;34m,\u001b[0m \u001b[0mfilename_or_obj\u001b[0m\u001b[0;34m,\u001b[0m \u001b[0;34m*\u001b[0m\u001b[0margs\u001b[0m\u001b[0;34m,\u001b[0m \u001b[0;34m**\u001b[0m\u001b[0mkwargs\u001b[0m\u001b[0;34m)\u001b[0m\u001b[0;34m:\u001b[0m\u001b[0;34m\u001b[0m\u001b[0m\n\u001b[0;32m--> 527\u001b[0;31m         \u001b[0mFigureCanvasAgg\u001b[0m\u001b[0;34m.\u001b[0m\u001b[0mdraw\u001b[0m\u001b[0;34m(\u001b[0m\u001b[0mself\u001b[0m\u001b[0;34m)\u001b[0m\u001b[0;34m\u001b[0m\u001b[0m\n\u001b[0m\u001b[1;32m    528\u001b[0m         \u001b[0mrenderer\u001b[0m \u001b[0;34m=\u001b[0m \u001b[0mself\u001b[0m\u001b[0;34m.\u001b[0m\u001b[0mget_renderer\u001b[0m\u001b[0;34m(\u001b[0m\u001b[0;34m)\u001b[0m\u001b[0;34m\u001b[0m\u001b[0m\n\u001b[1;32m    529\u001b[0m         \u001b[0moriginal_dpi\u001b[0m \u001b[0;34m=\u001b[0m \u001b[0mrenderer\u001b[0m\u001b[0;34m.\u001b[0m\u001b[0mdpi\u001b[0m\u001b[0;34m\u001b[0m\u001b[0m\n",
      "\u001b[0;32m/export/home/users/clopezar/.conda/envs/engg3130/lib/python2.7/site-packages/matplotlib/backends/backend_agg.pyc\u001b[0m in \u001b[0;36mdraw\u001b[0;34m(self)\u001b[0m\n\u001b[1;32m    472\u001b[0m \u001b[0;34m\u001b[0m\u001b[0m\n\u001b[1;32m    473\u001b[0m         \u001b[0;32mtry\u001b[0m\u001b[0;34m:\u001b[0m\u001b[0;34m\u001b[0m\u001b[0m\n\u001b[0;32m--> 474\u001b[0;31m             \u001b[0mself\u001b[0m\u001b[0;34m.\u001b[0m\u001b[0mfigure\u001b[0m\u001b[0;34m.\u001b[0m\u001b[0mdraw\u001b[0m\u001b[0;34m(\u001b[0m\u001b[0mself\u001b[0m\u001b[0;34m.\u001b[0m\u001b[0mrenderer\u001b[0m\u001b[0;34m)\u001b[0m\u001b[0;34m\u001b[0m\u001b[0m\n\u001b[0m\u001b[1;32m    475\u001b[0m         \u001b[0;32mfinally\u001b[0m\u001b[0;34m:\u001b[0m\u001b[0;34m\u001b[0m\u001b[0m\n\u001b[1;32m    476\u001b[0m             \u001b[0mRendererAgg\u001b[0m\u001b[0;34m.\u001b[0m\u001b[0mlock\u001b[0m\u001b[0;34m.\u001b[0m\u001b[0mrelease\u001b[0m\u001b[0;34m(\u001b[0m\u001b[0;34m)\u001b[0m\u001b[0;34m\u001b[0m\u001b[0m\n",
      "\u001b[0;32m/export/home/users/clopezar/.conda/envs/engg3130/lib/python2.7/site-packages/matplotlib/artist.pyc\u001b[0m in \u001b[0;36mdraw_wrapper\u001b[0;34m(artist, renderer, *args, **kwargs)\u001b[0m\n\u001b[1;32m     60\u001b[0m     \u001b[0;32mdef\u001b[0m \u001b[0mdraw_wrapper\u001b[0m\u001b[0;34m(\u001b[0m\u001b[0martist\u001b[0m\u001b[0;34m,\u001b[0m \u001b[0mrenderer\u001b[0m\u001b[0;34m,\u001b[0m \u001b[0;34m*\u001b[0m\u001b[0margs\u001b[0m\u001b[0;34m,\u001b[0m \u001b[0;34m**\u001b[0m\u001b[0mkwargs\u001b[0m\u001b[0;34m)\u001b[0m\u001b[0;34m:\u001b[0m\u001b[0;34m\u001b[0m\u001b[0m\n\u001b[1;32m     61\u001b[0m         \u001b[0mbefore\u001b[0m\u001b[0;34m(\u001b[0m\u001b[0martist\u001b[0m\u001b[0;34m,\u001b[0m \u001b[0mrenderer\u001b[0m\u001b[0;34m)\u001b[0m\u001b[0;34m\u001b[0m\u001b[0m\n\u001b[0;32m---> 62\u001b[0;31m         \u001b[0mdraw\u001b[0m\u001b[0;34m(\u001b[0m\u001b[0martist\u001b[0m\u001b[0;34m,\u001b[0m \u001b[0mrenderer\u001b[0m\u001b[0;34m,\u001b[0m \u001b[0;34m*\u001b[0m\u001b[0margs\u001b[0m\u001b[0;34m,\u001b[0m \u001b[0;34m**\u001b[0m\u001b[0mkwargs\u001b[0m\u001b[0;34m)\u001b[0m\u001b[0;34m\u001b[0m\u001b[0m\n\u001b[0m\u001b[1;32m     63\u001b[0m         \u001b[0mafter\u001b[0m\u001b[0;34m(\u001b[0m\u001b[0martist\u001b[0m\u001b[0;34m,\u001b[0m \u001b[0mrenderer\u001b[0m\u001b[0;34m)\u001b[0m\u001b[0;34m\u001b[0m\u001b[0m\n\u001b[1;32m     64\u001b[0m \u001b[0;34m\u001b[0m\u001b[0m\n",
      "\u001b[0;32m/export/home/users/clopezar/.conda/envs/engg3130/lib/python2.7/site-packages/matplotlib/figure.pyc\u001b[0m in \u001b[0;36mdraw\u001b[0;34m(self, renderer)\u001b[0m\n\u001b[1;32m   1163\u001b[0m \u001b[0;34m\u001b[0m\u001b[0m\n\u001b[1;32m   1164\u001b[0m         \u001b[0mself\u001b[0m\u001b[0;34m.\u001b[0m\u001b[0m_cachedRenderer\u001b[0m \u001b[0;34m=\u001b[0m \u001b[0mrenderer\u001b[0m\u001b[0;34m\u001b[0m\u001b[0m\n\u001b[0;32m-> 1165\u001b[0;31m         \u001b[0mself\u001b[0m\u001b[0;34m.\u001b[0m\u001b[0mcanvas\u001b[0m\u001b[0;34m.\u001b[0m\u001b[0mdraw_event\u001b[0m\u001b[0;34m(\u001b[0m\u001b[0mrenderer\u001b[0m\u001b[0;34m)\u001b[0m\u001b[0;34m\u001b[0m\u001b[0m\n\u001b[0m\u001b[1;32m   1166\u001b[0m \u001b[0;34m\u001b[0m\u001b[0m\n\u001b[1;32m   1167\u001b[0m     \u001b[0;32mdef\u001b[0m \u001b[0mdraw_artist\u001b[0m\u001b[0;34m(\u001b[0m\u001b[0mself\u001b[0m\u001b[0;34m,\u001b[0m \u001b[0ma\u001b[0m\u001b[0;34m)\u001b[0m\u001b[0;34m:\u001b[0m\u001b[0;34m\u001b[0m\u001b[0m\n",
      "\u001b[0;32m/export/home/users/clopezar/.conda/envs/engg3130/lib/python2.7/site-packages/matplotlib/backend_bases.pyc\u001b[0m in \u001b[0;36mdraw_event\u001b[0;34m(self, renderer)\u001b[0m\n\u001b[1;32m   1807\u001b[0m         \u001b[0ms\u001b[0m \u001b[0;34m=\u001b[0m \u001b[0;34m'draw_event'\u001b[0m\u001b[0;34m\u001b[0m\u001b[0m\n\u001b[1;32m   1808\u001b[0m         \u001b[0mevent\u001b[0m \u001b[0;34m=\u001b[0m \u001b[0mDrawEvent\u001b[0m\u001b[0;34m(\u001b[0m\u001b[0ms\u001b[0m\u001b[0;34m,\u001b[0m \u001b[0mself\u001b[0m\u001b[0;34m,\u001b[0m \u001b[0mrenderer\u001b[0m\u001b[0;34m)\u001b[0m\u001b[0;34m\u001b[0m\u001b[0m\n\u001b[0;32m-> 1809\u001b[0;31m         \u001b[0mself\u001b[0m\u001b[0;34m.\u001b[0m\u001b[0mcallbacks\u001b[0m\u001b[0;34m.\u001b[0m\u001b[0mprocess\u001b[0m\u001b[0;34m(\u001b[0m\u001b[0ms\u001b[0m\u001b[0;34m,\u001b[0m \u001b[0mevent\u001b[0m\u001b[0;34m)\u001b[0m\u001b[0;34m\u001b[0m\u001b[0m\n\u001b[0m\u001b[1;32m   1810\u001b[0m \u001b[0;34m\u001b[0m\u001b[0m\n\u001b[1;32m   1811\u001b[0m     \u001b[0;32mdef\u001b[0m \u001b[0mresize_event\u001b[0m\u001b[0;34m(\u001b[0m\u001b[0mself\u001b[0m\u001b[0;34m)\u001b[0m\u001b[0;34m:\u001b[0m\u001b[0;34m\u001b[0m\u001b[0m\n",
      "\u001b[0;32m/export/home/users/clopezar/.conda/envs/engg3130/lib/python2.7/site-packages/matplotlib/cbook.pyc\u001b[0m in \u001b[0;36mprocess\u001b[0;34m(self, s, *args, **kwargs)\u001b[0m\n\u001b[1;32m    561\u001b[0m             \u001b[0;32mfor\u001b[0m \u001b[0mcid\u001b[0m\u001b[0;34m,\u001b[0m \u001b[0mproxy\u001b[0m \u001b[0;32min\u001b[0m \u001b[0mlist\u001b[0m\u001b[0;34m(\u001b[0m\u001b[0msix\u001b[0m\u001b[0;34m.\u001b[0m\u001b[0miteritems\u001b[0m\u001b[0;34m(\u001b[0m\u001b[0mself\u001b[0m\u001b[0;34m.\u001b[0m\u001b[0mcallbacks\u001b[0m\u001b[0;34m[\u001b[0m\u001b[0ms\u001b[0m\u001b[0;34m]\u001b[0m\u001b[0;34m)\u001b[0m\u001b[0;34m)\u001b[0m\u001b[0;34m:\u001b[0m\u001b[0;34m\u001b[0m\u001b[0m\n\u001b[1;32m    562\u001b[0m                 \u001b[0;32mtry\u001b[0m\u001b[0;34m:\u001b[0m\u001b[0;34m\u001b[0m\u001b[0m\n\u001b[0;32m--> 563\u001b[0;31m                     \u001b[0mproxy\u001b[0m\u001b[0;34m(\u001b[0m\u001b[0;34m*\u001b[0m\u001b[0margs\u001b[0m\u001b[0;34m,\u001b[0m \u001b[0;34m**\u001b[0m\u001b[0mkwargs\u001b[0m\u001b[0;34m)\u001b[0m\u001b[0;34m\u001b[0m\u001b[0m\n\u001b[0m\u001b[1;32m    564\u001b[0m                 \u001b[0;32mexcept\u001b[0m \u001b[0mReferenceError\u001b[0m\u001b[0;34m:\u001b[0m\u001b[0;34m\u001b[0m\u001b[0m\n\u001b[1;32m    565\u001b[0m                     \u001b[0mself\u001b[0m\u001b[0;34m.\u001b[0m\u001b[0m_remove_proxy\u001b[0m\u001b[0;34m(\u001b[0m\u001b[0mproxy\u001b[0m\u001b[0;34m)\u001b[0m\u001b[0;34m\u001b[0m\u001b[0m\n",
      "\u001b[0;32m/export/home/users/clopezar/.conda/envs/engg3130/lib/python2.7/site-packages/matplotlib/cbook.pyc\u001b[0m in \u001b[0;36m__call__\u001b[0;34m(self, *args, **kwargs)\u001b[0m\n\u001b[1;32m    428\u001b[0m             \u001b[0mmtd\u001b[0m \u001b[0;34m=\u001b[0m \u001b[0mself\u001b[0m\u001b[0;34m.\u001b[0m\u001b[0mfunc\u001b[0m\u001b[0;34m\u001b[0m\u001b[0m\n\u001b[1;32m    429\u001b[0m         \u001b[0;31m# invoke the callable and return the result\u001b[0m\u001b[0;34m\u001b[0m\u001b[0;34m\u001b[0m\u001b[0m\n\u001b[0;32m--> 430\u001b[0;31m         \u001b[0;32mreturn\u001b[0m \u001b[0mmtd\u001b[0m\u001b[0;34m(\u001b[0m\u001b[0;34m*\u001b[0m\u001b[0margs\u001b[0m\u001b[0;34m,\u001b[0m \u001b[0;34m**\u001b[0m\u001b[0mkwargs\u001b[0m\u001b[0;34m)\u001b[0m\u001b[0;34m\u001b[0m\u001b[0m\n\u001b[0m\u001b[1;32m    431\u001b[0m \u001b[0;34m\u001b[0m\u001b[0m\n\u001b[1;32m    432\u001b[0m     \u001b[0;32mdef\u001b[0m \u001b[0m__eq__\u001b[0m\u001b[0;34m(\u001b[0m\u001b[0mself\u001b[0m\u001b[0;34m,\u001b[0m \u001b[0mother\u001b[0m\u001b[0;34m)\u001b[0m\u001b[0;34m:\u001b[0m\u001b[0;34m\u001b[0m\u001b[0m\n",
      "\u001b[0;32m/export/home/users/clopezar/.conda/envs/engg3130/lib/python2.7/site-packages/matplotlib/animation.pyc\u001b[0m in \u001b[0;36m_start\u001b[0;34m(self, *args)\u001b[0m\n\u001b[1;32m    659\u001b[0m \u001b[0;34m\u001b[0m\u001b[0m\n\u001b[1;32m    660\u001b[0m         \u001b[0;31m# Now do any initial draw\u001b[0m\u001b[0;34m\u001b[0m\u001b[0;34m\u001b[0m\u001b[0m\n\u001b[0;32m--> 661\u001b[0;31m         \u001b[0mself\u001b[0m\u001b[0;34m.\u001b[0m\u001b[0m_init_draw\u001b[0m\u001b[0;34m(\u001b[0m\u001b[0;34m)\u001b[0m\u001b[0;34m\u001b[0m\u001b[0m\n\u001b[0m\u001b[1;32m    662\u001b[0m \u001b[0;34m\u001b[0m\u001b[0m\n\u001b[1;32m    663\u001b[0m         \u001b[0;31m# Add our callback for stepping the animation and\u001b[0m\u001b[0;34m\u001b[0m\u001b[0;34m\u001b[0m\u001b[0m\n",
      "\u001b[0;32m/export/home/users/clopezar/.conda/envs/engg3130/lib/python2.7/site-packages/matplotlib/animation.pyc\u001b[0m in \u001b[0;36m_init_draw\u001b[0;34m(self)\u001b[0m\n\u001b[1;32m   1219\u001b[0m         \u001b[0;31m# artists.\u001b[0m\u001b[0;34m\u001b[0m\u001b[0;34m\u001b[0m\u001b[0m\n\u001b[1;32m   1220\u001b[0m         \u001b[0;32mif\u001b[0m \u001b[0mself\u001b[0m\u001b[0;34m.\u001b[0m\u001b[0m_init_func\u001b[0m \u001b[0;32mis\u001b[0m \u001b[0mNone\u001b[0m\u001b[0;34m:\u001b[0m\u001b[0;34m\u001b[0m\u001b[0m\n\u001b[0;32m-> 1221\u001b[0;31m             \u001b[0mself\u001b[0m\u001b[0;34m.\u001b[0m\u001b[0m_draw_frame\u001b[0m\u001b[0;34m(\u001b[0m\u001b[0mnext\u001b[0m\u001b[0;34m(\u001b[0m\u001b[0mself\u001b[0m\u001b[0;34m.\u001b[0m\u001b[0mnew_frame_seq\u001b[0m\u001b[0;34m(\u001b[0m\u001b[0;34m)\u001b[0m\u001b[0;34m)\u001b[0m\u001b[0;34m)\u001b[0m\u001b[0;34m\u001b[0m\u001b[0m\n\u001b[0m\u001b[1;32m   1222\u001b[0m \u001b[0;34m\u001b[0m\u001b[0m\n\u001b[1;32m   1223\u001b[0m         \u001b[0;32melse\u001b[0m\u001b[0;34m:\u001b[0m\u001b[0;34m\u001b[0m\u001b[0m\n",
      "\u001b[0;32m/export/home/users/clopezar/.conda/envs/engg3130/lib/python2.7/site-packages/matplotlib/animation.pyc\u001b[0m in \u001b[0;36m_draw_frame\u001b[0;34m(self, framedata)\u001b[0m\n\u001b[1;32m   1241\u001b[0m         \u001b[0;31m# Call the func with framedata and args. If blitting is desired,\u001b[0m\u001b[0;34m\u001b[0m\u001b[0;34m\u001b[0m\u001b[0m\n\u001b[1;32m   1242\u001b[0m         \u001b[0;31m# func needs to return a sequence of any artists that were modified.\u001b[0m\u001b[0;34m\u001b[0m\u001b[0;34m\u001b[0m\u001b[0m\n\u001b[0;32m-> 1243\u001b[0;31m         \u001b[0mself\u001b[0m\u001b[0;34m.\u001b[0m\u001b[0m_drawn_artists\u001b[0m \u001b[0;34m=\u001b[0m \u001b[0mself\u001b[0m\u001b[0;34m.\u001b[0m\u001b[0m_func\u001b[0m\u001b[0;34m(\u001b[0m\u001b[0mframedata\u001b[0m\u001b[0;34m,\u001b[0m \u001b[0;34m*\u001b[0m\u001b[0mself\u001b[0m\u001b[0;34m.\u001b[0m\u001b[0m_args\u001b[0m\u001b[0;34m)\u001b[0m\u001b[0;34m\u001b[0m\u001b[0m\n\u001b[0m\u001b[1;32m   1244\u001b[0m         \u001b[0;32mif\u001b[0m \u001b[0mself\u001b[0m\u001b[0;34m.\u001b[0m\u001b[0m_blit\u001b[0m\u001b[0;34m:\u001b[0m\u001b[0;34m\u001b[0m\u001b[0m\n\u001b[1;32m   1245\u001b[0m             \u001b[0;32mif\u001b[0m \u001b[0mself\u001b[0m\u001b[0;34m.\u001b[0m\u001b[0m_drawn_artists\u001b[0m \u001b[0;32mis\u001b[0m \u001b[0mNone\u001b[0m\u001b[0;34m:\u001b[0m\u001b[0;34m\u001b[0m\u001b[0m\n",
      "\u001b[0;32m<ipython-input-9-3a020ca8bb1a>\u001b[0m in \u001b[0;36mupdate\u001b[0;34m(frame)\u001b[0m\n\u001b[1;32m      7\u001b[0m \u001b[0;34m\u001b[0m\u001b[0m\n\u001b[1;32m      8\u001b[0m \u001b[0;32mdef\u001b[0m \u001b[0mupdate\u001b[0m\u001b[0;34m(\u001b[0m\u001b[0mframe\u001b[0m\u001b[0;34m)\u001b[0m\u001b[0;34m:\u001b[0m\u001b[0;34m\u001b[0m\u001b[0m\n\u001b[0;32m----> 9\u001b[0;31m     \u001b[0mcurrent\u001b[0m \u001b[0;34m=\u001b[0m \u001b[0mframe\u001b[0m \u001b[0;34m%\u001b[0m \u001b[0mlen\u001b[0m\u001b[0;34m(\u001b[0m\u001b[0mE\u001b[0m\u001b[0;34m)\u001b[0m\u001b[0;34m\u001b[0m\u001b[0m\n\u001b[0m\u001b[1;32m     10\u001b[0m     \u001b[0mi\u001b[0m \u001b[0;34m=\u001b[0m \u001b[0mframe\u001b[0m \u001b[0;34m%\u001b[0m \u001b[0mlen\u001b[0m\u001b[0;34m(\u001b[0m\u001b[0mP\u001b[0m\u001b[0;34m)\u001b[0m\u001b[0;34m\u001b[0m\u001b[0m\n\u001b[1;32m     11\u001b[0m \u001b[0;34m\u001b[0m\u001b[0m\n",
      "\u001b[0;31mZeroDivisionError\u001b[0m: integer division or modulo by zero"
     ]
    },
    {
     "data": {
      "text/plain": [
       "<matplotlib.figure.Figure at 0x7ff035b9b590>"
      ]
     },
     "metadata": {},
     "output_type": "display_data"
    }
   ],
   "source": [
    "P = np.zeros(50, dtype=[('position', float, 2),\n",
    "                         ('size',     float, 1),\n",
    "                         ('growth',   float, 1),\n",
    "                         ('color',    float, 4)])\n",
    "scat = ax.scatter(P['position'][:,0], P['position'][:,1], P['size'], lw=0.5,\n",
    "                  edgecolors = P['color'], facecolors='None', zorder=10)\n",
    "\n",
    "def update(frame):\n",
    "    current = frame % len(E)\n",
    "    i = frame % len(P)\n",
    "\n",
    "    P['color'][:,3] = np.maximum(0, P['color'][:,3] - 1.0/len(P))\n",
    "    P['size'] += P['growth']\n",
    "\n",
    "    magnitude = E['magnitude'][current]\n",
    "    P['position'][i] = earth(*E['position'][current])\n",
    "    P['size'][i] = 5\n",
    "    P['growth'][i]= np.exp(magnitude) * 0.1\n",
    "\n",
    "    if magnitude < 6:\n",
    "        P['color'][i]    = 0,0,1,1\n",
    "    else:\n",
    "        P['color'][i]    = 1,0,0,1\n",
    "    scat.set_edgecolors(P['color'])\n",
    "    scat.set_facecolors(P['color']*(1,1,1,0.25))\n",
    "    scat.set_sizes(P['size'])\n",
    "    scat.set_offsets(P['position'])\n",
    "    return scat,\n",
    "\n",
    "\n",
    "animation = animation.FuncAnimation(fig, update, interval=10)\n",
    "plt.show()\n"
   ]
  }
 ],
 "metadata": {
  "anaconda-cloud": {},
  "kernelspec": {
   "display_name": "Python 2",
   "language": "python",
   "name": "python2"
  },
  "language_info": {
   "codemirror_mode": {
    "name": "ipython",
    "version": 2
   },
   "file_extension": ".py",
   "mimetype": "text/x-python",
   "name": "python",
   "nbconvert_exporter": "python",
   "pygments_lexer": "ipython2",
   "version": "2.7.11"
  }
 },
 "nbformat": 4,
 "nbformat_minor": 1
}
